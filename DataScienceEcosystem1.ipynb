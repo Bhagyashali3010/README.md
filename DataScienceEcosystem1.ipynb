{
 "cells": [
  {
   "cell_type": "markdown",
   "id": "d4b12508-5b79-4373-a38c-ff21b261cdbc",
   "metadata": {},
   "source": [
    "<h1>Data Science Tools and Ecosystem</h1>"
   ]
  },
  {
   "cell_type": "markdown",
   "id": "c6863e9e-82ab-485a-9cf9-ef157127dcf5",
   "metadata": {},
   "source": [
    "In this notebook, Data Science Tools and Ecosystem are summarized."
   ]
  },
  {
   "cell_type": "markdown",
   "id": "a0cd8a63-22fe-4df4-9376-9005f534dd40",
   "metadata": {},
   "source": [
    "Some of the popular languages that Data Scientists use are:\n",
    "1. Python\n",
    "2. Scala\n",
    "3. SQL\n"
   ]
  },
  {
   "cell_type": "markdown",
   "id": "e4b72e93-8db1-4e74-8b22-94cd84a4c7a3",
   "metadata": {},
   "source": [
    "<b>Objectives:</b>\n",
    "* List popular languages for Data Science\n",
    "* Libaries for Data Science\n",
    "* Datasets - Powering Data Science\n"
   ]
  },
  {
   "cell_type": "markdown",
   "id": "26dc2803-6e1c-4bce-9db0-96d3fca9ca16",
   "metadata": {},
   "source": [
    "Some of the commonly used libraries used by Data Scientists include:\n",
    "1. NumPy.\n",
    "2. Pandas.\n",
    "3. TensorFlow.\n",
    "4. Keras."
   ]
  },
  {
   "cell_type": "markdown",
   "id": "9bc31969-18d3-4b6f-853e-9310fa30cb9b",
   "metadata": {},
   "source": [
    "| Data Science Tools |\r\n",
    "|:------------------:|\r\n",
    "| VS Code 1          |\r\n",
    "|Jupyter Notebookl     |\r\n",
    "Spyderol 3           |\r\n"
   ]
  },
  {
   "cell_type": "markdown",
   "id": "c318c381-c580-4ab8-82f0-0ad55a8ae5d6",
   "metadata": {},
   "source": [
    "<h3>Below are a few examples of evaluating arithmetic expressions in Python</h3>"
   ]
  },
  {
   "cell_type": "code",
   "execution_count": 1,
   "id": "f8a4dc65-ab76-40a1-8663-cdc8e74cc887",
   "metadata": {},
   "outputs": [
    {
     "data": {
      "text/plain": [
       "17"
      ]
     },
     "execution_count": 1,
     "metadata": {},
     "output_type": "execute_result"
    }
   ],
   "source": [
    "#This a simple arithmetic expression to mutiply then add integers.\n",
    "(3*4)+5"
   ]
  },
  {
   "cell_type": "code",
   "execution_count": 4,
   "id": "bc21d60a-3658-4130-9283-7d599d6c7716",
   "metadata": {},
   "outputs": [
    {
     "data": {
      "text/plain": [
       "3.3333333333333335"
      ]
     },
     "execution_count": 4,
     "metadata": {},
     "output_type": "execute_result"
    }
   ],
   "source": [
    "#This will convert 200 minutes to hours by diving by 60.\n",
    "minutes = 200\n",
    "hours = minutes / 60\n",
    "hours\n"
   ]
  },
  {
   "cell_type": "markdown",
   "id": "80c0a7ed-c7e9-447d-827a-5f914980d0f5",
   "metadata": {},
   "source": [
    "<h2>Author</h2>\n",
    "Bhagyashali Shinde"
   ]
  },
  {
   "cell_type": "code",
   "execution_count": null,
   "id": "adb8f9f9-13ca-4911-96d4-f1f127511f3c",
   "metadata": {},
   "outputs": [],
   "source": []
  }
 ],
 "metadata": {
  "kernelspec": {
   "display_name": "Python 3 (ipykernel)",
   "language": "python",
   "name": "python3"
  },
  "language_info": {
   "codemirror_mode": {
    "name": "ipython",
    "version": 3
   },
   "file_extension": ".py",
   "mimetype": "text/x-python",
   "name": "python",
   "nbconvert_exporter": "python",
   "pygments_lexer": "ipython3",
   "version": "3.10.0"
  }
 },
 "nbformat": 4,
 "nbformat_minor": 5
}
